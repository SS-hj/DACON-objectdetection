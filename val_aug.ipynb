{
 "cells": [
  {
   "cell_type": "code",
   "execution_count": 15,
   "metadata": {},
   "outputs": [],
   "source": [
    "import os\n",
    "import json\n",
    "import cv2\n",
    "import albumentations as A"
   ]
  },
  {
   "attachments": {},
   "cell_type": "markdown",
   "metadata": {},
   "source": [
    "# val set resize & aug"
   ]
  },
  {
   "cell_type": "code",
   "execution_count": 16,
   "metadata": {},
   "outputs": [],
   "source": [
    "def augment_images_with_bbox(image_dir, annotation_file, output_dir):\n",
    "    # Load JSON annotation file\n",
    "    with open(annotation_file, 'r') as f:\n",
    "        annotations = json.load(f)\n",
    "\n",
    "    # Define augmentation pipeline\n",
    "    transform = A.Compose([\n",
    "        A.OneOf([\n",
    "            A.Blur(blur_limit=3, p=1.0),\n",
    "            A.MotionBlur(blur_limit=11, p=1.0),\n",
    "            A.MedianBlur(blur_limit=3, p=1.0),\n",
    "        ], p=0.8),\n",
    "        A.OneOf([\n",
    "            A.ISONoise(p=1.0),\n",
    "            A.RandomGamma(p=1.0),\n",
    "            A.HueSaturationValue(p=1.0),\n",
    "            A.ChannelShuffle(p=1.0),\n",
    "            A.RGBShift(p=1.0),\n",
    "            A.CLAHE(clip_limit=(1, 10), p=1.0),\n",
    "            A.RandomBrightnessContrast(p=1.0), \n",
    "        ], p=1),\n",
    "    ], bbox_params=A.BboxParams(format='coco', label_fields=['category_ids']))\n",
    "\n",
    "    # Iterate over images and annotations\n",
    "    for image_data in annotations['images']:\n",
    "        image_id = image_data['id']\n",
    "        image_path = os.path.join(image_dir, image_data['file_name'])\n",
    "        image = cv2.imread(image_path)\n",
    "        image = cv2.cvtColor(image, cv2.COLOR_BGR2RGB)\n",
    "        bboxes = []\n",
    "        category_ids = []\n",
    "\n",
    "        # Find annotations for the current image\n",
    "        for annotation in annotations['annotations']:\n",
    "            if annotation['image_id'] == image_id:\n",
    "                bboxes.append(annotation['bbox'])\n",
    "                category_ids.append(annotation['category_id'])\n",
    "\n",
    "        # Apply augmentation\n",
    "        augmented = transform(image=image, bboxes=bboxes, category_ids=category_ids)\n",
    "        augmented_image = augmented['image']\n",
    "\n",
    "        # Save augmented image\n",
    "        output_image_path = os.path.join(output_dir, f\"augmented_{os.path.basename(image_data['file_name'])}\")\n",
    "        cv2.imwrite(output_image_path, cv2.cvtColor(augmented_image, cv2.COLOR_RGB2BGR))\n",
    "\n",
    "    print(\"Augmentation completed.\")"
   ]
  },
  {
   "cell_type": "code",
   "execution_count": 17,
   "metadata": {},
   "outputs": [],
   "source": [
    "image_dir = '/opt/ml/DACON-objectdetection/data'\n",
    "annotation_file = '/opt/ml/DACON-objectdetection/data/K-fold_val1.json'\n",
    "output_dir = '/opt/ml/DACON-objectdetection/data/val'"
   ]
  },
  {
   "cell_type": "code",
   "execution_count": 18,
   "metadata": {},
   "outputs": [
    {
     "name": "stdout",
     "output_type": "stream",
     "text": [
      "Augmentation completed.\n"
     ]
    }
   ],
   "source": [
    "augment_images_with_bbox(image_dir, annotation_file, output_dir)"
   ]
  },
  {
   "attachments": {},
   "cell_type": "markdown",
   "metadata": {},
   "source": [
    "# json file의 image path 변경"
   ]
  },
  {
   "cell_type": "code",
   "execution_count": 12,
   "metadata": {},
   "outputs": [],
   "source": [
    "with open(annotation_file, 'r') as f:\n",
    "    annotations = json.load(f)\n",
    "\n",
    "for image_data in annotations['images']:\n",
    "    image_data['file_name'] = image_data['file_name'].replace(\"train/\", \"val/augmented_\")\n",
    "        \n",
    "with open('/opt/ml/DACON-objectdetection/data/augmented_val.json', 'w') as f:\n",
    "    json.dump(annotations, f)"
   ]
  },
  {
   "attachments": {},
   "cell_type": "markdown",
   "metadata": {},
   "source": [
    "# CoarseDropout aug 적용"
   ]
  },
  {
   "cell_type": "code",
   "execution_count": 19,
   "metadata": {},
   "outputs": [],
   "source": [
    "from glob import glob\n",
    "\n",
    "img_path = '/opt/ml/DACON-objectdetection/data/val/*.png'\n",
    "img_pathes = glob(img_path)"
   ]
  },
  {
   "cell_type": "code",
   "execution_count": 20,
   "metadata": {},
   "outputs": [],
   "source": [
    "# Define augmentation pipeline\n",
    "transform = A.Compose([\n",
    "    A.CoarseDropout(always_apply=False, p=0.6, min_holes=1, max_holes=5, min_height=8, max_height=150, min_width=8, max_width=20, fill_value=(200,200,215))\n",
    "])\n",
    "\n",
    "# Iterate over images\n",
    "for img_path in img_pathes:\n",
    "    image = cv2.imread(img_path)\n",
    "    image = cv2.cvtColor(image, cv2.COLOR_BGR2RGB)\n",
    "            \n",
    "    # Apply augmentation\n",
    "    augmented = transform(image=image)\n",
    "    augmented_image = augmented['image']\n",
    "    \n",
    "    # Save augmented image\n",
    "    cv2.imwrite(img_path, cv2.cvtColor(augmented_image, cv2.COLOR_RGB2BGR))\n"
   ]
  }
 ],
 "metadata": {
  "kernelspec": {
   "display_name": "openmmlab",
   "language": "python",
   "name": "python3"
  },
  "language_info": {
   "codemirror_mode": {
    "name": "ipython",
    "version": 3
   },
   "file_extension": ".py",
   "mimetype": "text/x-python",
   "name": "python",
   "nbconvert_exporter": "python",
   "pygments_lexer": "ipython3",
   "version": "3.8.16"
  },
  "orig_nbformat": 4
 },
 "nbformat": 4,
 "nbformat_minor": 2
}
