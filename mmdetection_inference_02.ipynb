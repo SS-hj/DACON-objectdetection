{
 "cells": [
  {
   "cell_type": "code",
   "execution_count": 1,
   "id": "ff7c24f5",
   "metadata": {},
   "outputs": [
    {
     "name": "stdout",
     "output_type": "stream",
     "text": [
      "/opt/ml/DACON-objectdetection/mmdetection\n"
     ]
    }
   ],
   "source": [
    "%cd mmdetection"
   ]
  },
  {
   "cell_type": "code",
   "execution_count": 2,
   "id": "3fd75793",
   "metadata": {},
   "outputs": [],
   "source": [
    "import mmcv\n",
    "from mmcv import Config\n",
    "from mmdet.datasets import (build_dataloader, build_dataset,\n",
    "                            replace_ImageToTensor)\n",
    "from mmdet.models import build_detector\n",
    "from mmcv.parallel import MMDataParallel\n",
    "from mmdet.apis import single_gpu_test\n",
    "from mmcv.runner import load_checkpoint\n",
    "import os\n",
    "import pandas as pd\n",
    "from pandas import DataFrame\n",
    "from pycocotools.coco import COCO\n",
    "import numpy as np"
   ]
  },
  {
   "cell_type": "code",
   "execution_count": 12,
   "id": "edda58ea",
   "metadata": {},
   "outputs": [],
   "source": [
    "classes = ('chevrolet_malibu_sedan_2012_2016', 'chevrolet_malibu_sedan_2017_2019', 'chevrolet_spark_hatchback_2016_2021', \n",
    "           'chevrolet_trailblazer_suv_2021_', 'chevrolet_trax_suv_2017_2019','genesis_g80_sedan_2016_2020','genesis_g80_sedan_2021_', \n",
    "           'genesis_gv80_suv_2020_', 'hyundai_avante_sedan_2011_2015', 'hyundai_avante_sedan_2020_', 'hyundai_grandeur_sedan_2011_2016', \n",
    "           'hyundai_grandstarex_van_2018_2020', 'hyundai_ioniq_hatchback_2016_2019', 'hyundai_sonata_sedan_2004_2009', \n",
    "           'hyundai_sonata_sedan_2010_2014', 'hyundai_sonata_sedan_2019_2020', 'kia_carnival_van_2015_2020', 'kia_carnival_van_2021_',\n",
    "           'kia_k5_sedan_2010_2015', 'kia_k5_sedan_2020_', 'kia_k7_sedan_2016_2020', 'kia_mohave_suv_2020_', 'kia_morning_hatchback_2004_2010',\n",
    "           'kia_morning_hatchback_2011_2016', 'kia_ray_hatchback_2012_2017', 'kia_sorrento_suv_2015_2019', 'kia_sorrento_suv_2020_', 'kia_soul_suv_2014_2018',\n",
    "           'kia_sportage_suv_2016_2020','kia_stonic_suv_2017_2019','renault_sm3_sedan_2015_2018','renault_xm3_suv_2020_','ssangyong_korando_suv_2019_2020',\n",
    "           'ssangyong_tivoli_suv_2016_2020'),\n",
    "\n",
    "# config file 들고오기\n",
    "cfg = Config.fromfile('/opt/ml/DACON-objectdetection/mmdetection/configs/02_res2net101_bbox_safe/02_res2net101_bbox_safe.py')\n",
    "\n",
    "root='/opt/ml/DACON-objectdetection/data/'\n",
    "working_dir = '/opt/ml/DACON-objectdetection/mmdetection/work_dirs/02_res2net101_bbox_safe'\n",
    "\n",
    "epoch = 'best_bbox_mAP_epoch_16'\n",
    "\n",
    "cfg.optimizer_config.grad_clip = dict(max_norm=35, norm_type=2)\n",
    "cfg.model.train_cfg = None"
   ]
  },
  {
   "cell_type": "code",
   "execution_count": 13,
   "id": "58ccaae0",
   "metadata": {},
   "outputs": [],
   "source": [
    "# dataset config 수정\n",
    "cfg.data.test.classes = classes\n",
    "cfg.data.test.img_prefix = root\n",
    "cfg.data.test.ann_file = root + 'annotations/test.json'\n",
    "cfg.data.test.test_mode = True"
   ]
  },
  {
   "cell_type": "code",
   "execution_count": 14,
   "id": "cd946e0c",
   "metadata": {},
   "outputs": [],
   "source": [
    "# cfg.data.test.pipeline\n",
    "# cfg.data.train.pipeline"
   ]
  },
  {
   "cell_type": "code",
   "execution_count": 15,
   "id": "b086a8cf",
   "metadata": {},
   "outputs": [
    {
     "name": "stdout",
     "output_type": "stream",
     "text": [
      "loading annotations into memory...\n",
      "Done (t=0.00s)\n",
      "creating index...\n",
      "index created!\n"
     ]
    }
   ],
   "source": [
    "# build dataset & dataloader\n",
    "dataset = build_dataset(cfg.data.test)\n",
    "data_loader = build_dataloader(\n",
    "        dataset,\n",
    "        samples_per_gpu=4,\n",
    "        workers_per_gpu=cfg.data.workers_per_gpu,\n",
    "        dist=False,\n",
    "        shuffle=False)"
   ]
  },
  {
   "cell_type": "code",
   "execution_count": 16,
   "id": "83b3eae6",
   "metadata": {},
   "outputs": [
    {
     "name": "stdout",
     "output_type": "stream",
     "text": [
      "load checkpoint from local path: /opt/ml/DACON-objectdetection/mmdetection/work_dirs/19_swin_harder_aug/best_bbox_mAP_epoch_16.pth\n"
     ]
    }
   ],
   "source": [
    "# checkpoint path\n",
    "checkpoint_path = os.path.join(working_dir, f'{epoch}.pth')\n",
    "\n",
    "model = build_detector(cfg.model, test_cfg=cfg.get('test_cfg')) # build detector\n",
    "checkpoint = load_checkpoint(model, checkpoint_path, map_location='cpu') # ckpt load\n",
    "\n",
    "model.CLASSES = dataset.CLASSES\n",
    "model = MMDataParallel(model.cuda(), device_ids=[0])"
   ]
  },
  {
   "cell_type": "code",
   "execution_count": 17,
   "id": "c9f5c2bb",
   "metadata": {},
   "outputs": [
    {
     "name": "stdout",
     "output_type": "stream",
     "text": [
      "[>>>>>>>>>>>>>>>>>>>>>>>>>>] 3400/3400, 11.4 task/s, elapsed: 299s, ETA:     0s"
     ]
    }
   ],
   "source": [
    "output = single_gpu_test(model, data_loader) # output 계산"
   ]
  },
  {
   "cell_type": "code",
   "execution_count": 18,
   "id": "fad6a1e8",
   "metadata": {},
   "outputs": [],
   "source": [
    "def coco_to_labelme(line, image_width, image_height, txt_file_name):    \n",
    "    file_name = txt_file_name.split(\"/\")[-1].replace(\".txt\", \".png\")\n",
    "    class_id, x, y, width, height, confidence = [float(temp) for temp in line.split()]\n",
    "    \n",
    "    x_min = int((x - width / 2) * image_width)\n",
    "    x_max = int((x + width / 2) * image_width)\n",
    "    y_min = int((y - height / 2) * image_height)\n",
    "    y_max = int((y + height / 2) * image_height)\n",
    "    \n",
    "    return file_name, int(class_id), confidence, x_min, y_min, x_max, y_min, x_max, y_max, x_min, y_max"
   ]
  },
  {
   "cell_type": "code",
   "execution_count": 19,
   "id": "5672a0ff",
   "metadata": {},
   "outputs": [
    {
     "name": "stdout",
     "output_type": "stream",
     "text": [
      "loading annotations into memory...\n",
      "Done (t=0.01s)\n",
      "creating index...\n",
      "index created!\n"
     ]
    }
   ],
   "source": [
    "# submission 양식에 맞게 output 후처리\n",
    "results = []\n",
    "file_names = []\n",
    "coco = COCO(cfg.data.test.ann_file)\n",
    "img_ids = coco.getImgIds()\n",
    "\n",
    "class_num = 34\n",
    "for i, out in enumerate(output):\n",
    "    image_info = coco.loadImgs(coco.getImgIds(imgIds=i))[0]\n",
    "    for j in range(class_num):\n",
    "        for o in out[j]:\n",
    "            # o[0], o[1], o[2], o[3] : x_min, y_min, x_max, y_max\n",
    "            # file_name,class_id,confidence,point1_x,point1_y,point2_x,point2_y,point3_x,point3_y,point4_x,point4_y\n",
    "            results.append([image_info['file_name'][-13:], j, o[4], o[0], o[1], o[2], o[1], o[2], o[3], o[0], o[3]])"
   ]
  },
  {
   "cell_type": "code",
   "execution_count": 20,
   "id": "07c0b1be",
   "metadata": {},
   "outputs": [],
   "source": [
    "submission = pd.DataFrame(data=results, columns=[\"file_name\", \"class_id\", \"confidence\", \"point1_x\", \"point1_y\", \"point2_x\", \"point2_y\", \"point3_x\", \"point3_y\", \"point4_x\", \"point4_y\"])\n",
    "submission.to_csv(os.path.join(working_dir, f'submission_{epoch}.csv'), index=None)"
   ]
  },
  {
   "cell_type": "code",
   "execution_count": 24,
   "id": "7ea3ded2",
   "metadata": {},
   "outputs": [
    {
     "data": {
      "text/html": [
       "<div>\n",
       "<style scoped>\n",
       "    .dataframe tbody tr th:only-of-type {\n",
       "        vertical-align: middle;\n",
       "    }\n",
       "\n",
       "    .dataframe tbody tr th {\n",
       "        vertical-align: top;\n",
       "    }\n",
       "\n",
       "    .dataframe thead th {\n",
       "        text-align: right;\n",
       "    }\n",
       "</style>\n",
       "<table border=\"1\" class=\"dataframe\">\n",
       "  <thead>\n",
       "    <tr style=\"text-align: right;\">\n",
       "      <th></th>\n",
       "      <th>file_name</th>\n",
       "      <th>class_id</th>\n",
       "      <th>confidence</th>\n",
       "      <th>point1_x</th>\n",
       "      <th>point1_y</th>\n",
       "      <th>point2_x</th>\n",
       "      <th>point2_y</th>\n",
       "      <th>point3_x</th>\n",
       "      <th>point3_y</th>\n",
       "      <th>point4_x</th>\n",
       "      <th>point4_y</th>\n",
       "    </tr>\n",
       "  </thead>\n",
       "  <tbody>\n",
       "    <tr>\n",
       "      <th>0</th>\n",
       "      <td>113912327.png</td>\n",
       "      <td>0</td>\n",
       "      <td>0.000019</td>\n",
       "      <td>875.033081</td>\n",
       "      <td>477.647766</td>\n",
       "      <td>1143.829590</td>\n",
       "      <td>477.647766</td>\n",
       "      <td>1143.829590</td>\n",
       "      <td>754.961487</td>\n",
       "      <td>875.033081</td>\n",
       "      <td>754.961487</td>\n",
       "    </tr>\n",
       "    <tr>\n",
       "      <th>1</th>\n",
       "      <td>113912327.png</td>\n",
       "      <td>1</td>\n",
       "      <td>0.000006</td>\n",
       "      <td>875.033081</td>\n",
       "      <td>477.647766</td>\n",
       "      <td>1143.829590</td>\n",
       "      <td>477.647766</td>\n",
       "      <td>1143.829590</td>\n",
       "      <td>754.961487</td>\n",
       "      <td>875.033081</td>\n",
       "      <td>754.961487</td>\n",
       "    </tr>\n",
       "    <tr>\n",
       "      <th>2</th>\n",
       "      <td>113912327.png</td>\n",
       "      <td>2</td>\n",
       "      <td>0.000298</td>\n",
       "      <td>875.033081</td>\n",
       "      <td>477.647766</td>\n",
       "      <td>1143.829590</td>\n",
       "      <td>477.647766</td>\n",
       "      <td>1143.829590</td>\n",
       "      <td>754.961487</td>\n",
       "      <td>875.033081</td>\n",
       "      <td>754.961487</td>\n",
       "    </tr>\n",
       "    <tr>\n",
       "      <th>3</th>\n",
       "      <td>113912327.png</td>\n",
       "      <td>3</td>\n",
       "      <td>0.000971</td>\n",
       "      <td>874.945679</td>\n",
       "      <td>477.597748</td>\n",
       "      <td>1143.864868</td>\n",
       "      <td>477.597748</td>\n",
       "      <td>1143.864868</td>\n",
       "      <td>755.107239</td>\n",
       "      <td>874.945679</td>\n",
       "      <td>755.107239</td>\n",
       "    </tr>\n",
       "    <tr>\n",
       "      <th>4</th>\n",
       "      <td>113912327.png</td>\n",
       "      <td>4</td>\n",
       "      <td>0.000077</td>\n",
       "      <td>875.033081</td>\n",
       "      <td>477.647766</td>\n",
       "      <td>1143.829590</td>\n",
       "      <td>477.647766</td>\n",
       "      <td>1143.829590</td>\n",
       "      <td>754.961487</td>\n",
       "      <td>875.033081</td>\n",
       "      <td>754.961487</td>\n",
       "    </tr>\n",
       "  </tbody>\n",
       "</table>\n",
       "</div>"
      ],
      "text/plain": [
       "       file_name  class_id  confidence    point1_x    point1_y     point2_x  \\\n",
       "0  113912327.png         0    0.000019  875.033081  477.647766  1143.829590   \n",
       "1  113912327.png         1    0.000006  875.033081  477.647766  1143.829590   \n",
       "2  113912327.png         2    0.000298  875.033081  477.647766  1143.829590   \n",
       "3  113912327.png         3    0.000971  874.945679  477.597748  1143.864868   \n",
       "4  113912327.png         4    0.000077  875.033081  477.647766  1143.829590   \n",
       "\n",
       "     point2_y     point3_x    point3_y    point4_x    point4_y  \n",
       "0  477.647766  1143.829590  754.961487  875.033081  754.961487  \n",
       "1  477.647766  1143.829590  754.961487  875.033081  754.961487  \n",
       "2  477.647766  1143.829590  754.961487  875.033081  754.961487  \n",
       "3  477.597748  1143.864868  755.107239  874.945679  755.107239  \n",
       "4  477.647766  1143.829590  754.961487  875.033081  754.961487  "
      ]
     },
     "execution_count": 24,
     "metadata": {},
     "output_type": "execute_result"
    }
   ],
   "source": [
    "submission.head()"
   ]
  },
  {
   "cell_type": "code",
   "execution_count": null,
   "id": "f16b85cb",
   "metadata": {},
   "outputs": [],
   "source": []
  }
 ],
 "metadata": {
  "kernelspec": {
   "display_name": "Python 3.7.15 ('detection')",
   "language": "python",
   "name": "python3"
  },
  "language_info": {
   "codemirror_mode": {
    "name": "ipython",
    "version": 3
   },
   "file_extension": ".py",
   "mimetype": "text/x-python",
   "name": "python",
   "nbconvert_exporter": "python",
   "pygments_lexer": "ipython3",
   "version": "3.8.16"
  },
  "vscode": {
   "interpreter": {
    "hash": "b94c6de4bce9a87a354a5fa9998691adc0532adddb9d4140f5ba941d00b01fae"
   }
  }
 },
 "nbformat": 4,
 "nbformat_minor": 5
}
