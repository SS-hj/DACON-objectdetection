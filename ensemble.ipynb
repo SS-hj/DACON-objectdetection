{
 "cells": [
  {
   "cell_type": "code",
   "execution_count": null,
   "metadata": {},
   "outputs": [],
   "source": [
    "import pandas as pd\n",
    "from ensemble_boxes import *"
   ]
  },
  {
   "cell_type": "code",
   "execution_count": null,
   "metadata": {},
   "outputs": [],
   "source": [
    "# csv 파일 로드\n",
    "file1 = '/opt/ml/DACON-objectdetection/mmdetection/work_dirs/01_swin_bbox_safe/submission_best_bbox_mAP_epoch_16.csv'\n",
    "file2 = '/opt/ml/DACON-objectdetection/mmdetection/work_dirs/cascade-mask-rcnn_convnext-t/submission_best_bbox_mAP_epoch_20.csv'\n",
    "file3 = '/opt/ml/DACON-objectdetection/mmdetection/work_dirs/02_res2net101_bbox_safe/submission_best_bbox_mAP_epoch_16.csv'\n",
    "output_file = '/opt/ml/DACON-objectdetection/results/ensemble.csv'\n",
    "\n",
    "df1 = pd.read_csv(file1)\n",
    "df2 = pd.read_csv(file2)\n",
    "df3 = pd.read_csv(file3)\n",
    "\n",
    "df1['source'] = file1\n",
    "df2['source'] = file2\n",
    "df3['source'] = file3\n",
    "\n",
    "\n",
    "the_weight = [0.4, 0.3, 0.3]    # wbf ensemble 비율 설정\n",
    "\n",
    "\n",
    "# 세 DataFrame을 하나로 결합\n",
    "df = pd.concat([df1, df2, df3])\n",
    "\n",
    "# 이미지의 너비와 높이\n",
    "IMAGE_WIDTH = 1920\n",
    "IMAGE_HEIGHT = 1080\n",
    "\n",
    "def convert_boxes(row):\n",
    "    return [(row['point1_x'] / IMAGE_WIDTH), (row['point1_y'] / IMAGE_HEIGHT), \n",
    "            (row['point3_x'] / IMAGE_WIDTH), (row['point3_y'] / IMAGE_HEIGHT)]\n",
    "\n",
    "\n",
    "df['boxes'] = df.apply(lambda row: convert_boxes(row), axis=1)"
   ]
  }
 ],
 "metadata": {
  "kernelspec": {
   "display_name": "openmmlab",
   "language": "python",
   "name": "python3"
  },
  "language_info": {
   "name": "python",
   "version": "3.8.16"
  },
  "orig_nbformat": 4
 },
 "nbformat": 4,
 "nbformat_minor": 2
}
